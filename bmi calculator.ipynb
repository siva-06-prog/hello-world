{
 "cells": [
  {
   "cell_type": "code",
   "execution_count": 1,
   "id": "81b713e0-f261-432d-8080-9a115f85509a",
   "metadata": {},
   "outputs": [
    {
     "name": "stdin",
     "output_type": "stream",
     "text": [
      "enter your height in centimeters:  130\n",
      "enter your weight in kg:  38\n"
     ]
    },
    {
     "name": "stdout",
     "output_type": "stream",
     "text": [
      "your body mass index is:  22.485207100591715\n",
      "you are healthy\n"
     ]
    }
   ],
   "source": [
    "height=float(input(\"enter your height in centimeters: \"))\n",
    "weight=float(input(\"enter your weight in kg: \"))\n",
    "height=height/100\n",
    "bmi=weight/(height*height)\n",
    "print(\"your body mass index is: \", bmi)\n",
    "if(bmi>0):\n",
    "    if(bmi<=16):\n",
    "        print(\"you are severely underweight\")\n",
    "    \n",
    "    elif(bmi<=18.5):\n",
    "        print(\"you are underweight\")\n",
    "    elif(bmi<=25):\n",
    "\n",
    "            print(\"you are healthy\")\n",
    "    elif(bmi<=30):\n",
    "        \n",
    "                print(\"you are  overweight\")\n",
    "    else:print(\"you are extremely overweight\")\n",
    "\n",
    "            \n",
    "                \n",
    "    "
   ]
  },
  {
   "cell_type": "code",
   "execution_count": null,
   "id": "f5655ba6-0da4-4743-bd3e-811d1828c392",
   "metadata": {},
   "outputs": [],
   "source": []
  },
  {
   "cell_type": "code",
   "execution_count": null,
   "id": "b52f38f7-d26d-4058-9629-d88ea9a09859",
   "metadata": {
    "tags": []
   },
   "outputs": [],
   "source": []
  },
  {
   "cell_type": "code",
   "execution_count": null,
   "id": "f99a61c0-b287-42ba-99c0-85fc3d5c1351",
   "metadata": {},
   "outputs": [],
   "source": []
  }
 ],
 "metadata": {
  "kernelspec": {
   "display_name": "Python 3",
   "language": "python",
   "name": "python3"
  },
  "language_info": {
   "codemirror_mode": {
    "name": "ipython",
    "version": 3
   },
   "file_extension": ".py",
   "mimetype": "text/x-python",
   "name": "python",
   "nbconvert_exporter": "python",
   "pygments_lexer": "ipython3",
   "version": "3.8.8"
  }
 },
 "nbformat": 4,
 "nbformat_minor": 5
}
