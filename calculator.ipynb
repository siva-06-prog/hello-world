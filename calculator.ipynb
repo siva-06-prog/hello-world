{
 "cells": [
  {
   "cell_type": "code",
   "execution_count": 1,
   "id": "6cb7dfd4-b7e2-446d-b709-26b2c77996d5",
   "metadata": {},
   "outputs": [
    {
     "name": "stdin",
     "output_type": "stream",
     "text": [
      "enter your first number:  120\n",
      "enter your second number:  509\n",
      "enter opertaor:  *\n"
     ]
    },
    {
     "name": "stdout",
     "output_type": "stream",
     "text": [
      "result : \n",
      "120.0 * 509.0 = 61080.0\n"
     ]
    }
   ],
   "source": [
    " num1=float(input(\"enter your first number: \"))\n",
    "num2=float(input(\"enter your second number: \"))\n",
    "operator=input(\"enter opertaor: \")\n",
    "def add(num1,num2):\n",
    "    addition=num1+num2\n",
    "    print(\"result : \")\n",
    "    print(num1,operator,num2, \"=\",addition)\n",
    "def subtract(num1,num2):\n",
    "    subtraction=num1-num2\n",
    "    print(\"result : \")\n",
    "    print(num1,operator,num2, \"=\",subtraction)\n",
    "def multiply(num1,numn2):\n",
    "    multiplication=num1*num2\n",
    "    print(\"result : \")\n",
    "    print(num1,operator,num2, \"=\",multiplication)\n",
    "def division(num1,num2):\n",
    "    division=num1/num2\n",
    "    print(\"result: \")\n",
    "    print(num1,operator,num2, \"=\",division)\n",
    "def modulus(num1,num2):\n",
    "    modulus=num1%num2\n",
    "    print(\"result : \")\n",
    "    print(num1,operator,num2, \"=\", modulus)\n",
    "if (operator=='+'):\n",
    "    add(num1,num2)\n",
    "elif (operator=='-'):\n",
    "    subtract(num1,num2)\n",
    "elif (operator=='*'):\n",
    "    multiply(num1,num2)\n",
    "elif (operator=='/'):\n",
    "    division(num1,num2)\n",
    "elif (operator=='%'):\n",
    "    modulus(num1,num2)\n",
    "\n",
    "else:\n",
    "    print(\"invalid operation\")\n",
    "    "
   ]
  },
  {
   "cell_type": "code",
   "execution_count": null,
   "id": "8f6990ac-95a3-40c1-9993-b7a329f72a92",
   "metadata": {},
   "outputs": [],
   "source": []
  },
  {
   "cell_type": "markdown",
   "id": "e1936187-e2b6-4502-b513-2bd635ce2bbc",
   "metadata": {},
   "source": []
  },
  {
   "cell_type": "code",
   "execution_count": null,
   "id": "6a2f7bdf-94ad-4390-8aad-2ca876192f9d",
   "metadata": {},
   "outputs": [],
   "source": []
  },
  {
   "cell_type": "raw",
   "id": "fb413241-ec46-4f98-99aa-68256ff96ee8",
   "metadata": {},
   "source": []
  },
  {
   "cell_type": "code",
   "execution_count": null,
   "id": "ea20a2ec-530d-49c8-a875-baf64069bcdc",
   "metadata": {},
   "outputs": [],
   "source": []
  },
  {
   "cell_type": "code",
   "execution_count": null,
   "id": "7269c830-b009-4278-8247-2de3d3850e36",
   "metadata": {},
   "outputs": [],
   "source": []
  },
  {
   "cell_type": "code",
   "execution_count": null,
   "id": "3aea4991-5e50-4dc3-9655-7bf7422d48f2",
   "metadata": {},
   "outputs": [],
   "source": []
  }
 ],
 "metadata": {
  "kernelspec": {
   "display_name": "Python 3",
   "language": "python",
   "name": "python3"
  },
  "language_info": {
   "codemirror_mode": {
    "name": "ipython",
    "version": 3
   },
   "file_extension": ".py",
   "mimetype": "text/x-python",
   "name": "python",
   "nbconvert_exporter": "python",
   "pygments_lexer": "ipython3",
   "version": "3.8.8"
  }
 },
 "nbformat": 4,
 "nbformat_minor": 5
}
